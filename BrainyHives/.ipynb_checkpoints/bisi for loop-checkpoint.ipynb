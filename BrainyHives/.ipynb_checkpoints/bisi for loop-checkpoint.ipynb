{
 "cells": [
  {
   "cell_type": "code",
   "execution_count": 3,
   "metadata": {},
   "outputs": [
    {
     "name": "stdout",
     "output_type": "stream",
     "text": [
      "I try is available to David\n"
     ]
    }
   ],
   "source": [
    "suitors = [\n",
    "{\"name\": \"David\", \"financial Status\": \"Rich\", \"church\": \"JW\"},\n",
    "{\"name\": \"Joshua\", \"financial Status\": \"Poor\", \"church\":\"JW\"},\n",
    "{\"name\": \"Peter\", \"financial Status\": \"Poor\", \"church\": \"Lutheran Church\"}\n",
    "]\n",
    "\n",
    "FineGirlName = str(input(\"what is your name?\\n\"))\n",
    "\n",
    "#using a for loop to iterate through the suitors\n",
    "for suitor in suitors:\n",
    "    suitorFinancialStatus = suitor[\"financial Status\"]\n",
    "    suitorChurch = suitor[\"church\"]\n",
    "    suitorname = suitor[\"name\"]\n",
    "\n",
    "    #checking conditions based on attributes\n",
    "    if suitorFinancialStatus == \"Rich\" or suitorChurch == \"JW\":\n",
    "        print(\"I\", FineGirlName, \"is available to\", suitorname)\n",
    "        break\n",
    "else:\n",
    "    print(\"I\", FineGirlName, \"is unavailable\")"
   ]
  }
 ],
 "metadata": {
  "kernelspec": {
   "display_name": "Python 3",
   "language": "python",
   "name": "python3"
  },
  "language_info": {
   "codemirror_mode": {
    "name": "ipython",
    "version": 3
   },
   "file_extension": ".py",
   "mimetype": "text/x-python",
   "name": "python",
   "nbconvert_exporter": "python",
   "pygments_lexer": "ipython3",
   "version": "3.11.7"
  }
 },
 "nbformat": 4,
 "nbformat_minor": 2
}
